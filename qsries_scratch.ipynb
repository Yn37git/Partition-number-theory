{
 "cells": [
  {
   "cell_type": "code",
   "execution_count": 1,
   "id": "1f3032a6",
   "metadata": {
    "tags": []
   },
   "outputs": [],
   "source": [
    "def qf1(n,m=1):\n",
    "    ''' outputs a dictionary in which we concider its keys as 'q' raised to power and \n",
    "    values is the respective coefficient = 1 as (LaTeX): (q^m;q^m)_\\infty = \\Pi_{i=1}^\\infty (1-q^{m i})'''\n",
    "    \n",
    "    n=n//m\n",
    "    return {m*i:1 for i in range(n+1)}"
   ]
  },
  {
   "cell_type": "code",
   "execution_count": 2,
   "id": "23a6669c",
   "metadata": {
    "scrolled": true,
    "tags": []
   },
   "outputs": [
    {
     "name": "stdout",
     "output_type": "stream",
     "text": [
      "{0: 1, 1: 1, 2: 1, 3: 1, 4: 1, 5: 1, 6: 1, 7: 1, 8: 1, 9: 1, 10: 1, 11: 1, 12: 1, 13: 1, 14: 1, 15: 1, 16: 1, 17: 1, 18: 1, 19: 1, 20: 1}\n"
     ]
    }
   ],
   "source": [
    "a=qf1(20)\n",
    "print(a)"
   ]
  },
  {
   "cell_type": "code",
   "execution_count": 3,
   "id": "5bb527d3",
   "metadata": {
    "scrolled": true,
    "tags": []
   },
   "outputs": [
    {
     "name": "stdout",
     "output_type": "stream",
     "text": [
      "{0: 1, 2: 1, 4: 1, 6: 1, 8: 1, 10: 1, 12: 1, 14: 1, 16: 1, 18: 1, 20: 1}\n"
     ]
    }
   ],
   "source": [
    "b=qf1(20,2)\n",
    "print(b)"
   ]
  },
  {
   "cell_type": "code",
   "execution_count": 4,
   "id": "c8286631",
   "metadata": {
    "tags": []
   },
   "outputs": [],
   "source": [
    "def qmul(a,b,t=min(max(a.keys()),max(b.keys()))):\n",
    "    ''' we define qmul as multiplication of two dictionaries in a way to replicate multiplication in q series'''\n",
    "    \n",
    "    p={}\n",
    "    for i,j in a.items():\n",
    "        for k,l in b.items():\n",
    "            if (i+k)<=t:\n",
    "                try:\n",
    "                    p[i+k]+=(j*l) #main step of adding powers and multiplying coefficients\n",
    "                except:\n",
    "                    p[i+k]=(j*l)\n",
    "    return p"
   ]
  },
  {
   "cell_type": "code",
   "execution_count": 5,
   "id": "fd3e08a8",
   "metadata": {
    "tags": []
   },
   "outputs": [
    {
     "data": {
      "text/plain": [
       "[1, 1, 2, 2, 3, 3, 4, 4, 5, 5, 6, 6, 7, 7, 8, 8, 9, 9, 10, 10, 11]"
      ]
     },
     "execution_count": 5,
     "metadata": {},
     "output_type": "execute_result"
    }
   ],
   "source": [
    "yn=qmul(a,b)\n",
    "yn=[yn[i] for i in range(len(yn))]\n",
    "yn"
   ]
  },
  {
   "cell_type": "code",
   "execution_count": 6,
   "id": "8949efce",
   "metadata": {
    "tags": []
   },
   "outputs": [],
   "source": [
    "def f_1(s):\n",
    "    '''outputs 1/f1 = 1/(q;q)_\\infty restricted till q^s term'''\n",
    "    \n",
    "    p={0:1}\n",
    "    for i in range(1,s+1):\n",
    "    \n",
    "        p=qmul(p,qf1(s,i),s)\n",
    "\n",
    "    return p"
   ]
  },
  {
   "cell_type": "code",
   "execution_count": 7,
   "id": "ebe31e57",
   "metadata": {
    "tags": []
   },
   "outputs": [
    {
     "name": "stdout",
     "output_type": "stream",
     "text": [
      "n = 50\n",
      "[1, 1, 2, 3, 5, 7, 11, 15, 22, 30, 42, 56, 77, 101, 135, 176, 231, 297, 385, 490, 627, 792, 1002, 1255, 1575, 1958, 2436, 3010, 3718, 4565, 5604, 6842, 8349, 10143, 12310, 14883, 17977, 21637, 26015, 31185, 37338, 44583, 53174, 63261, 75175, 89134, 105558, 124754, 147273, 173525, 204226]\n"
     ]
    }
   ],
   "source": [
    "n=int(input('n = '))\n",
    "q=f_1(n)\n",
    "def to_list(q):\n",
    "    ''' outputs values of dictionary in ordered list'''\n",
    "    ll=[q[i] for i in range(len(q))]\n",
    "    return ll\n",
    "print(to_list(q))"
   ]
  },
  {
   "cell_type": "code",
   "execution_count": 8,
   "id": "6e5c9ff9",
   "metadata": {
    "tags": []
   },
   "outputs": [],
   "source": [
    "def supspt(n):\n",
    "    '''outputs superscripts of the int input with help of UniCode'''\n",
    "    \n",
    "    ss={'0':'\\u2070','1':'\\u00b9','2':'\\u00b2','3':'\\u00b3','4':'\\u2074',\n",
    "        '5':'\\u2075','6':'\\u2076','7':'\\u2077','8':'\\u2078','9':'\\u2079'}\n",
    "    \n",
    "    st=str(int(n))\n",
    "    sd=''\n",
    "    \n",
    "    for i in st:\n",
    "        sd+=ss[i]\n",
    "        \n",
    "    return f'{sd}'"
   ]
  },
  {
   "cell_type": "code",
   "execution_count": 9,
   "id": "52f43761",
   "metadata": {
    "tags": []
   },
   "outputs": [],
   "source": [
    "def qprint(a,b=110):\n",
    "    ''' outputs q series representations from raw dictionary'''\n",
    "    d='1'\n",
    "    coef=''\n",
    "    e=[]\n",
    "    dis=0\n",
    "    for i in range(1,len(a)):\n",
    "        \n",
    "        coef=' + '+str(a[i])+' q'+supspt(i)\n",
    "        \n",
    "        if dis + len(coef) < b :\n",
    "            dis+=len(coef)\n",
    "            #print(dis)\n",
    "            d+=coef\n",
    "            \n",
    "        else:\n",
    "            coef='\\n\\n'+' + '+str(a[i])+' q'+supspt(i)\n",
    "            d+=coef\n",
    "            dis=len(coef)\n",
    "            #print(dis)\n",
    "    return d"
   ]
  },
  {
   "cell_type": "code",
   "execution_count": 10,
   "id": "71255bc5",
   "metadata": {
    "tags": []
   },
   "outputs": [
    {
     "name": "stdout",
     "output_type": "stream",
     "text": [
      "1 + 1 q¹ + 2 q² + 3 q³ + 5 q⁴ + 7 q⁵ + 11 q⁶ + 15 q⁷ + 22 q⁸ + 30 q⁹ + 42 q¹⁰ + 56 q¹¹ + 77 q¹² + 101 q¹³\n",
      "\n",
      " + 135 q¹⁴ + 176 q¹⁵ + 231 q¹⁶ + 297 q¹⁷ + 385 q¹⁸ + 490 q¹⁹ + 627 q²⁰ + 792 q²¹ + 1002 q²² + 1255 q²³\n",
      "\n",
      " + 1575 q²⁴ + 1958 q²⁵ + 2436 q²⁶ + 3010 q²⁷ + 3718 q²⁸ + 4565 q²⁹ + 5604 q³⁰ + 6842 q³¹ + 8349 q³²\n",
      "\n",
      " + 10143 q³³ + 12310 q³⁴ + 14883 q³⁵ + 17977 q³⁶ + 21637 q³⁷ + 26015 q³⁸ + 31185 q³⁹ + 37338 q⁴⁰\n",
      "\n",
      " + 44583 q⁴¹ + 53174 q⁴² + 63261 q⁴³ + 75175 q⁴⁴ + 89134 q⁴⁵ + 105558 q⁴⁶ + 124754 q⁴⁷ + 147273 q⁴⁸\n",
      "\n",
      " + 173525 q⁴⁹ + 204226 q⁵⁰\n"
     ]
    }
   ],
   "source": [
    "print(qprint(q))"
   ]
  },
  {
   "cell_type": "code",
   "execution_count": 11,
   "id": "6a3dfc72-bc85-40ae-84d3-0216b8592a2e",
   "metadata": {
    "tags": []
   },
   "outputs": [],
   "source": [
    "def f_l_regular(l,s=100):\n",
    "    '''outputs fl/f1 = (q^l;q^l)_\\infty / (q;q)_\\infty restricted till q^s term'''\n",
    "    \n",
    "    p={0:1}\n",
    "    for i in range(1,s+1):\n",
    "        \n",
    "        if i%l != 0:\n",
    "            p=qmul(p,qf1(s,i),s)\n",
    "    \n",
    "    return p"
   ]
  },
  {
   "cell_type": "code",
   "execution_count": 12,
   "id": "d7d5ff5b-88a6-4971-877d-c1582fe74801",
   "metadata": {
    "tags": []
   },
   "outputs": [
    {
     "name": "stdout",
     "output_type": "stream",
     "text": [
      "[1, 1, 2, 3, 5, 7, 11, 15, 22, 30, 42, 56, 77, 100, 134, 174, 228, 292, 378, 479, 612, 770, 972, 1213, 1519, 1881, 2334, 2874, 3540, 4331, 5302, 6450, 7848, 9501, 11496, 13851, 16680, 20006, 23980, 28648, 34193, 40689, 48378, 57360, 67948, 80295, 94788, 111652, 131388, 154293]\n"
     ]
    }
   ],
   "source": [
    "lr=f_l_regular(13,49)\n",
    "print(to_list(lr))"
   ]
  },
  {
   "cell_type": "code",
   "execution_count": 13,
   "id": "dc928d68-5365-49a1-8c13-cc44304ad167",
   "metadata": {
    "tags": []
   },
   "outputs": [],
   "source": [
    "def f_lm_regular(l,m,s=100):\n",
    "    '''outputs fl fm /f1 flm = (q^l;q^l)_\\infty (q^m;q^m)_\\infty / (q;q)_\\infty (q^{lm};q^{lm})_\\infty restricted till q^s term'''\n",
    "    \n",
    "    p={0:1}\n",
    "    \n",
    "    for i in range(1,s+1):\n",
    "        \n",
    "        if i%l != 0 and i%m !=0 :\n",
    "            p=qmul(p,qf1(s,i),s)\n",
    "    \n",
    "    return p"
   ]
  },
  {
   "cell_type": "code",
   "execution_count": 14,
   "id": "d22b0b4c-494d-4298-863d-a0e3077e71c4",
   "metadata": {
    "tags": []
   },
   "outputs": [
    {
     "name": "stdout",
     "output_type": "stream",
     "text": [
      "1 + 1 q¹ + 2 q² + 2 q³ + 3 q⁴ + 4 q⁵ + 5 q⁶ + 7 q⁷ + 8 q⁸ + 10 q⁹ + 13 q¹⁰ + 16 q¹¹ + 20 q¹² + 24 q¹³ + 30 q¹⁴\n",
      "\n",
      " + 36 q¹⁵ + 43 q¹⁶ + 52 q¹⁷ + 61 q¹⁸ + 73 q¹⁹ + 86 q²⁰ + 102 q²¹ + 120 q²² + 140 q²³ + 165 q²⁴ + 192 q²⁵\n",
      "\n",
      " + 224 q²⁶ + 260 q²⁷ + 301 q²⁸ + 348 q²⁹ + 401 q³⁰ + 462 q³¹ + 530 q³² + 608 q³³ + 696 q³⁴ + 796 q³⁵\n",
      "\n",
      " + 909 q³⁶ + 1035 q³⁷ + 1178 q³⁸ + 1338 q³⁹ + 1518 q⁴⁰ + 1720 q⁴¹ + 1945 q⁴² + 2198 q⁴³ + 2480 q⁴⁴\n",
      "\n",
      " + 2796 q⁴⁵ + 3148 q⁴⁶ + 3540 q⁴⁷ + 3978 q⁴⁸ + 4464 q⁴⁹ + 5006 q⁵⁰\n"
     ]
    }
   ],
   "source": [
    "print(qprint(f_lm_regular(3,4,50)))"
   ]
  },
  {
   "cell_type": "code",
   "execution_count": 15,
   "id": "a318b3eb-bde1-4573-8902-5eb04bdf42dc",
   "metadata": {
    "tags": []
   },
   "outputs": [],
   "source": [
    "def C2_lm_regular(l,m,s=100):\n",
    "    '''outputs (fl fm /f1 flm)^2 = ((q^l;q^l)_\\infty (q^m;q^m)_\\infty / (q;q)_\\infty (q^{lm};q^{lm})_\\infty)^2 restricted till q^s term for co-prime m and l'''\n",
    "    \n",
    "    p={0:1}\n",
    "    \n",
    "    for i in range(1,s+1):\n",
    "        \n",
    "        if i%l != 0 and i%m !=0 :\n",
    "            p=qmul(p,qf1(s,i),s) \n",
    "            p=qmul(p,qf1(s,i),s) # square is converted to 2 step multiplication by same quantity\n",
    "    \n",
    "    return p"
   ]
  },
  {
   "cell_type": "code",
   "execution_count": 16,
   "id": "65f62df9-6c0e-4edd-8318-831b7b5de7e7",
   "metadata": {
    "tags": []
   },
   "outputs": [],
   "source": [
    "v=C2_lm_regular(22,3,500)\n",
    "w=to_list(v)\n",
    "#print(qprint(v))"
   ]
  },
  {
   "cell_type": "code",
   "execution_count": 17,
   "id": "2678aa55-c581-46a2-bb71-9fc16b9af30c",
   "metadata": {
    "tags": []
   },
   "outputs": [
    {
     "name": "stdout",
     "output_type": "stream",
     "text": [
      "[8, 68, 356, 1468, 5184, 16372, 47440, 128304, 327808, 798236, 1865172, 4204220, 9180752, 19489724, 40338376, 81595728, 161638920, 314138332, 599869476, 1127024796, 2085744372, 3806193780, 6855270152, 12196113712, 21448879160, 37313471388, 64249393484, 109560834616, 185116119668, 310053747564, 515013314748, 848709362004, 1388084608488, 2253901830504, 3634556256312, 5822250920288, 9267675080120, 14662246512432, 23061231409156, 36067224017900, 56102380873364, 86810635036772, 133649520692644, 204757548529424, 312220557137732, 473913698153156, 716171070589100, 1077641372168964, 1614837583889320, 2410098664832916, 3582974985058008, 5306459076383108, 7830053593514940, 11512459906136908, 16867766502639420, 24630529554780280, 35847222521304832, 52004396519702976, 75207821396694220, 108432251530184680, 155868796417924192, 223406868724216796, 319301265028241304, 455093358724789548, 646880325797864772, 917060021058580580, 1296724560472830876, 1828936819291078948, 2573206208783912352, 3611590256111315060, 5056995967471447180, 7064451983873997452, 9846385355572479924, 13693286740455047384, 19001613109381289936, 26311394596628259436, 36356830495923913112, 50134242167277700444, 68993181005456694628, 94758376370820799292, 129892693397626386980, 177714538788764888132, 242687444724965626800, 330805189620847006876, 450103185607298641384, 611336502562587628068, 828877488590871384248, 1121902368089134205228, 1515957588819890887848, 2045024516527421361720, 2754237230783956449912, 3703455092764952794240, 4971952563126573776700, 6664567463226125074164, 8919750647847727311600, 11920091493245147290368, 15906063148301095602556, 21193949948373376032404, 28199200542429292894880, 37466811728495610527108, 49710812152515159937856, 65865510447722527091792, 87151935382344118328252, 115163872274040450374752, 151979148877263775552504, 200303419413446779844188, 263655731475047070250212, 346607756276598293581848, 455091868739946291889328, 596797470447128256129908, 781680295735747311480260, 1022616232032073508580668, 1336239801565223202312120, 1744018373359699784308920, 2273627006242899292506864, 2960706325114805460050008, 3851107957757166554642704, 5003760004807447751012752, 6494320281586602764986184, 8419829536736882289547800, 10904632871567057316184576, 14107908097765356360422064, 18233228456475707473312220, 23540698569849262943046036, 30362342435789753530081904]\n"
     ]
    }
   ],
   "source": [
    "tt=0\n",
    "l=[]\n",
    "i=0\n",
    "while tt<=len(w) :\n",
    "    tt=4*i+3\n",
    "    if tt<len(w) :\n",
    "        #print(tt)\n",
    "        l.append(w[tt])\n",
    "    i+=1\n",
    "print(l)"
   ]
  },
  {
   "cell_type": "code",
   "execution_count": 18,
   "id": "66e92c02-00bf-4c8d-950f-9311f21af9f8",
   "metadata": {
    "tags": []
   },
   "outputs": [
    {
     "data": {
      "text/plain": [
       "[]"
      ]
     },
     "execution_count": 18,
     "metadata": {},
     "output_type": "execute_result"
    }
   ],
   "source": [
    "res=list(filter(lambda x : x%4 ,l))\n",
    "res"
   ]
  }
 ],
 "metadata": {
  "kernelspec": {
   "display_name": "Python 3 (ipykernel)",
   "language": "python",
   "name": "python3"
  },
  "language_info": {
   "codemirror_mode": {
    "name": "ipython",
    "version": 3
   },
   "file_extension": ".py",
   "mimetype": "text/x-python",
   "name": "python",
   "nbconvert_exporter": "python",
   "pygments_lexer": "ipython3",
   "version": "3.11.4"
  }
 },
 "nbformat": 4,
 "nbformat_minor": 5
}
